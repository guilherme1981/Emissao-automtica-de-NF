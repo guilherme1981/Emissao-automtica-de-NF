{
 "cells": [
  {
   "cell_type": "code",
   "execution_count": 12,
   "id": "b3be39c3",
   "metadata": {},
   "outputs": [],
   "source": [
    "from selenium import webdriver\n",
    "from selenium.webdriver.chrome.service import Service\n",
    "from webdriver_manager.chrome import ChromeDriverManager\n",
    "from selenium.webdriver.common.by import By\n",
    "\n",
    "options = webdriver.ChromeOptions()\n",
    "options.add_experimental_option(\"prefs\", {\n",
    "  \"download.default_directory\": r\"C:\\Users\\guilh\\downloads\",\n",
    "  \"download.prompt_for_download\": False,\n",
    "  \"download.directory_upgrade\": True,\n",
    "  \"safebrowsing.enabled\": True\n",
    "})\n",
    "\n",
    "servico = Service(ChromeDriverManager().install())\n",
    "navegador = webdriver.Chrome(service=servico, options=options)"
   ]
  },
  {
   "cell_type": "code",
   "execution_count": 2,
   "id": "1c8836f2",
   "metadata": {},
   "outputs": [],
   "source": [
    "import os #para não passar o caminho todo manualmente\n",
    "\n",
    "caminho = os.getcwd() \n",
    "arquivo = caminho + r'\\login.html'\n",
    "navegador.get(arquivo) "
   ]
  },
  {
   "cell_type": "code",
   "execution_count": 5,
   "id": "dba42483",
   "metadata": {},
   "outputs": [],
   "source": [
    "#cadastro\n",
    "navegador.find_element(By.XPATH,\"/html/body/div/form/input[1]\").send_keys(\"guilhermevgabriel@gmail.com\")\n",
    "navegador.find_element(By.XPATH,\"/html/body/div/form/input[2]\").send_keys('senha')\n",
    "navegador.find_element(By.TAG_NAME,'button').click()\n",
    "\n"
   ]
  },
  {
   "cell_type": "code",
   "execution_count": 9,
   "id": "faeb6c0a",
   "metadata": {},
   "outputs": [],
   "source": [
    "#Preencher nota fiscal \n",
    "#Razão Social \n",
    "navegador.find_element(By.NAME,\"nome\").send_keys(\"SpotMetrics\")\n",
    "#Endereço \n",
    "navegador.find_element(By.NAME,\"endereco\").send_keys(\"Qualquer Rua\")\n",
    "#Bairro\n",
    "navegador.find_element(By.NAME,\"bairro\").send_keys(\"Botafogo\")\n",
    "#Municipio\n",
    "navegador.find_element(By.NAME,\"municipio\").send_keys(\"Rio de Janeiro\")\n",
    "#Cep\n",
    "navegador.find_element(By.NAME,\"cep\").send_keys(\"2222222222\")\n",
    "#UF\n",
    "navegador.find_element(By.NAME,\"uf\").send_keys(\"RJ\")\n",
    "#CNPJ\n",
    "navegador.find_element(By.NAME,\"cnpj\").send_keys(\"121212\")\n",
    "#Inscrição Estadual\n",
    "navegador.find_element(By.NAME,\"inscricao\").send_keys(\"123123123\")\n",
    "#Descrição\n",
    "texto = '''Valor Referente ao serviço de Promoção'''\n",
    "navegador.find_element(By.NAME,\"descricao\").send_keys(texto)\n",
    "#quantidade\n",
    "navegador.find_element(By.NAME,\"quantidade\").send_keys(10)\n",
    "#Valor Unitário\n",
    "navegador.find_element(By.NAME,\"valor_unitario\").send_keys(720)\n",
    "#Valor Total\n",
    "navegador.find_element(By.NAME,\"total\").send_keys(7200)\n"
   ]
  },
  {
   "cell_type": "code",
   "execution_count": 10,
   "id": "b73a250a",
   "metadata": {},
   "outputs": [],
   "source": [
    "#Clicar no Butão para confirmar \n",
    "navegador.find_element(By.CLASS_NAME,\"registerbtn\").click()"
   ]
  }
 ],
 "metadata": {
  "kernelspec": {
   "display_name": "Python 3 (ipykernel)",
   "language": "python",
   "name": "python3"
  },
  "language_info": {
   "codemirror_mode": {
    "name": "ipython",
    "version": 3
   },
   "file_extension": ".py",
   "mimetype": "text/x-python",
   "name": "python",
   "nbconvert_exporter": "python",
   "pygments_lexer": "ipython3",
   "version": "3.9.12"
  }
 },
 "nbformat": 4,
 "nbformat_minor": 5
}
